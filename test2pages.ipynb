{
 "cells": [
  {
   "cell_type": "code",
   "execution_count": 1,
   "metadata": {},
   "outputs": [],
   "source": [
    "import cv2\n",
    "import pytesseract\n",
    "import glob"
   ]
  },
  {
   "cell_type": "code",
   "execution_count": 2,
   "metadata": {},
   "outputs": [
    {
     "name": "stdout",
     "output_type": "stream",
     "text": [
      "['images\\\\IMG-20210216-WA0002.jpg', 'images\\\\img.jpg']\n"
     ]
    }
   ],
   "source": [
    "filepath = glob.glob('images/*')\n",
    "print(filepath)"
   ]
  },
  {
   "cell_type": "code",
   "execution_count": 3,
   "metadata": {},
   "outputs": [],
   "source": [
    "pics=[]"
   ]
  },
  {
   "cell_type": "code",
   "execution_count": 4,
   "metadata": {},
   "outputs": [],
   "source": [
    "pytesseract.pytesseract.tesseract_cmd = 'C:\\\\Program Files\\\\Tesseract-OCR\\\\tesseract.exe'"
   ]
  },
  {
   "cell_type": "code",
   "execution_count": 5,
   "metadata": {},
   "outputs": [],
   "source": [
    "img1 = cv2.imread('images\\\\IMG-20210216-WA0002.jpg')\n",
    "img1 = cv2.cvtColor(img1,cv2.COLOR_BGRA2RGB)\n",
    "img1 = cv2.resize(img1,(900,800))"
   ]
  },
  {
   "cell_type": "code",
   "execution_count": 6,
   "metadata": {},
   "outputs": [],
   "source": [
    "img= cv2.imread('images\\\\img.jpg')\n",
    "img=cv2.cvtColor(img,cv2.COLOR_BGR2RGB)\n",
    "img=cv2.resize(img,(1000,900))"
   ]
  },
  {
   "cell_type": "code",
   "execution_count": 7,
   "metadata": {},
   "outputs": [],
   "source": [
    "pics.append(img)\n",
    "pics.append(img1)\n",
    "\n"
   ]
  },
  {
   "cell_type": "code",
   "execution_count": 8,
   "metadata": {
    "scrolled": true
   },
   "outputs": [
    {
     "name": "stdout",
     "output_type": "stream",
     "text": [
      "(900, 1000, 3)\n",
      "(800, 900, 3)\n",
      "(800, 900, 3)\n",
      "(800, 900, 3)\n"
     ]
    }
   ],
   "source": [
    "###SKipthis \n",
    "\n",
    "\n",
    "for i in pics:\n",
    "    \n",
    "    print(i.shape)\n",
    "    img = cv2.resize(i,(900,800))\n",
    "    print(img.shape)\n",
    "    cv2.imshow(\"readed\",i)\n",
    "    \n",
    "    \n",
    "    if cv2.waitKey(0)==27:\n",
    "                pass\n",
    "    cv2.destroyAllWindows()\n",
    "\n",
    "   \n",
    "\n",
    "    "
   ]
  },
  {
   "cell_type": "code",
   "execution_count": null,
   "metadata": {},
   "outputs": [
    {
     "name": "stdout",
     "output_type": "stream",
     "text": [
      "pic two\n",
      "pic one\n"
     ]
    }
   ],
   "source": [
    "for i in pics:\n",
    "    \n",
    "    boxes = pytesseract.image_to_data(i)\n",
    "    for b in boxes.splitlines():\n",
    "        b=b.split()\n",
    "        #print(b)\n",
    "        if b[-1] == 'U1D':\n",
    "            print(\"pic one\")\n",
    "            x,y,w,h = int(b[6]),int(b[7]),int(b[8]),int(b[9])\n",
    "            #print(x,y,w,h)\n",
    "            cv2.rectangle(i, (100+w+x,y+h+1),(x+272,y-4),(0,0,255),cv2.FILLED)\n",
    "            cv2.imshow(\"readed\",i)\n",
    "            if cv2.waitKey(0)==27:\n",
    "                pass\n",
    "            cv2.destroyAllWindows()\n",
    "            \n",
    "        elif b[-1] =='(adhaary':\n",
    "            \n",
    "            print(\"pic two\")\n",
    "            x,y,w,h = int(b[6]),int(b[7]),int(b[8]),int(b[9])\n",
    "            #print(x,y,w,h)\n",
    "            cv2.rectangle(i, (44+w+x,y+h),(x+300,y-4),(255,0,0),cv2.FILLED)\n",
    "            cv2.imshow(\"readed\",i)\n",
    "            if cv2.waitKey(1000)==27:\n",
    "                     pass\n",
    "            cv2.destroyAllWindows()\n",
    "\n",
    "            \n",
    "                \n",
    "\n"
   ]
  },
  {
   "cell_type": "code",
   "execution_count": null,
   "metadata": {},
   "outputs": [],
   "source": [
    "for i in pics:\n",
    "    \n",
    "    boxes = pytesseract.image_to_data(i)\n",
    "    for b in boxes.splitlines():\n",
    "        b=b.split()\n",
    "        print(b)"
   ]
  },
  {
   "cell_type": "code",
   "execution_count": null,
   "metadata": {},
   "outputs": [],
   "source": []
  },
  {
   "cell_type": "code",
   "execution_count": null,
   "metadata": {},
   "outputs": [],
   "source": []
  },
  {
   "cell_type": "code",
   "execution_count": null,
   "metadata": {},
   "outputs": [],
   "source": []
  },
  {
   "cell_type": "code",
   "execution_count": null,
   "metadata": {},
   "outputs": [],
   "source": []
  },
  {
   "cell_type": "code",
   "execution_count": null,
   "metadata": {},
   "outputs": [],
   "source": [
    "\n"
   ]
  }
 ],
 "metadata": {
  "kernelspec": {
   "display_name": "Python 3",
   "language": "python",
   "name": "python3"
  },
  "language_info": {
   "codemirror_mode": {
    "name": "ipython",
    "version": 3
   },
   "file_extension": ".py",
   "mimetype": "text/x-python",
   "name": "python",
   "nbconvert_exporter": "python",
   "pygments_lexer": "ipython3",
   "version": "3.8.3"
  }
 },
 "nbformat": 4,
 "nbformat_minor": 4
}
