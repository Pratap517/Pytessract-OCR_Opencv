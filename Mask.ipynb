{
 "cells": [
  {
   "cell_type": "code",
   "execution_count": 1,
   "metadata": {},
   "outputs": [],
   "source": [
    "import cv2\n",
    "import pytesseract\n",
    "import glob"
   ]
  },
  {
   "cell_type": "code",
   "execution_count": 2,
   "metadata": {},
   "outputs": [],
   "source": [
    "pytesseract.pytesseract.tesseract_cmd=\"C:\\\\Program Files\\\\Tesseract-OCR\\\\tesseract.exe\""
   ]
  },
  {
   "cell_type": "code",
   "execution_count": 3,
   "metadata": {},
   "outputs": [
    {
     "name": "stdout",
     "output_type": "stream",
     "text": [
      "['images\\\\img.jpg', 'images\\\\rotoimg.jpg']\n"
     ]
    }
   ],
   "source": [
    "filepath = glob.glob('images/*')\n",
    "print(filepath)"
   ]
  },
  {
   "cell_type": "code",
   "execution_count": 4,
   "metadata": {},
   "outputs": [],
   "source": [
    "pics = []"
   ]
  },
  {
   "cell_type": "code",
   "execution_count": null,
   "metadata": {},
   "outputs": [],
   "source": [
    "####YOu can Skip this cell code\n",
    "\n",
    "for img in filepath:\n",
    "    src=cv2.imread(img)\n",
    "    print(src.shape)\n",
    "    image=cv2.cvtColor(src,cv2.COLOR_BGR2RGB)\n",
    "    image=cv2.resize(image,(700,700))\n",
    "    #print(src.shape,image.shape)\n",
    "    \n",
    "    cv2.imshow(\"show\",image)\n",
    "    \n",
    "    if cv2.waitKey(0)==27:\n",
    "        pass\n",
    "    cv2.destroyAllWindows()\n",
    "    "
   ]
  },
  {
   "cell_type": "code",
   "execution_count": 5,
   "metadata": {},
   "outputs": [],
   "source": [
    "##Here we are loading the image individually and converting them to RGB and resizing and appending to pics list\n",
    "\n",
    "nimg= cv2.imread('images\\\\img.jpg')\n",
    "nimg=cv2.cvtColor(nimg,cv2.COLOR_BGR2RGB)\n",
    "nimg=cv2.resize(nimg,(1000,900))\n",
    "timg= cv2.imread('images\\\\rotoimg.jpg')\n",
    "rot=cv2.rotate(timg,cv2.ROTATE_180)\n",
    "rot=cv2.cvtColor(rot,cv2.COLOR_BGR2RGB)\n",
    "rot=cv2.resize(rot,(1000,900))\n",
    "pics.append(rot)\n",
    "pics.append(nimg)\n",
    "\n",
    "cv2.imshow(\"Rotated image\",timg)\n",
    "cv2.imshow(\"After Rotataion\",rot)\n",
    "cv2.imshow(\"Standard\",nimg)\n",
    "    \n",
    "if cv2.waitKey(0)==27:\n",
    "          pass\n",
    "cv2.destroyAllWindows()\n",
    "    "
   ]
  },
  {
   "cell_type": "code",
   "execution_count": 6,
   "metadata": {},
   "outputs": [
    {
     "data": {
      "text/plain": [
       "2"
      ]
     },
     "execution_count": 6,
     "metadata": {},
     "output_type": "execute_result"
    }
   ],
   "source": [
    "len(pics)"
   ]
  },
  {
   "cell_type": "code",
   "execution_count": null,
   "metadata": {},
   "outputs": [],
   "source": [
    "# here you can see that two images in our list are normal now\n",
    "\n",
    "for i in pics:\n",
    "    cv2.imshow(\"Rotated image\",i)\n",
    "    if cv2.waitKey(0)==27:\n",
    "          pass\n",
    "    cv2.destroyAllWindows()"
   ]
  },
  {
   "cell_type": "code",
   "execution_count": 7,
   "metadata": {},
   "outputs": [],
   "source": [
    "for pic in pics:\n",
    "    boxes = pytesseract.image_to_data(pic)\n",
    "    for b in boxes.splitlines():\n",
    "        b=b.split()\n",
    "        if b[-1] =='(adhaary':\n",
    "            x,y,w,h = int(b[6]),int(b[7]),int(b[8]),int(b[9])\n",
    "        #print(x,y,w,h)\n",
    "            cv2.rectangle(pic, (44+w+x,y+h),(x+300,y-4),(0,0,0),cv2.FILLED)\n",
    "            cv2.imshow(\"readed\",pic)\n",
    "            if cv2.waitKey(0)==27:\n",
    "                pass\n",
    "            cv2.destroyAllWindows()\n",
    "       \n",
    "  \n",
    "    "
   ]
  },
  {
   "cell_type": "code",
   "execution_count": null,
   "metadata": {},
   "outputs": [],
   "source": []
  },
  {
   "cell_type": "code",
   "execution_count": null,
   "metadata": {},
   "outputs": [],
   "source": []
  }
 ],
 "metadata": {
  "kernelspec": {
   "display_name": "Python 3",
   "language": "python",
   "name": "python3"
  },
  "language_info": {
   "codemirror_mode": {
    "name": "ipython",
    "version": 3
   },
   "file_extension": ".py",
   "mimetype": "text/x-python",
   "name": "python",
   "nbconvert_exporter": "python",
   "pygments_lexer": "ipython3",
   "version": "3.8.3"
  }
 },
 "nbformat": 4,
 "nbformat_minor": 4
}
